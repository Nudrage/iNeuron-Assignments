{
 "cells": [
  {
   "cell_type": "markdown",
   "metadata": {},
   "source": [
    "# <center> iNeuron Machine Learning Assignment-1 </center>"
   ]
  },
  {
   "cell_type": "markdown",
   "metadata": {},
   "source": [
    "![Alt text](image.png)\n",
    "![Alt text](image-1.png)"
   ]
  },
  {
   "cell_type": "markdown",
   "metadata": {},
   "source": [
    "# Q1\n",
    "\n",
    "Machine learning focuses on the development of algorithms and models that enable computers to learn and make predictions or decisions based on data, without being explicitly programmed to perform specific tasks. In other words, it's a way to teach machines to learn from data and improve their performance over time through experience."
   ]
  },
  {
   "cell_type": "markdown",
   "metadata": {},
   "source": [
    "# Q2 \n",
    "\n",
    "Machine learning shines in various problem domains and has a wide range of applications. Here are four distinct types of issues where machine learning excels:\n",
    "- Image Processing and Computer Vision\n",
    "- Natural Language Processing\n",
    "- Recommendation System \n",
    "- Healthcare and Medical Diagnosis "
   ]
  },
  {
   "cell_type": "markdown",
   "metadata": {},
   "source": [
    "# Q3\n",
    "\n",
    "A labeled training set is a dataset consisting of input data (features) paired with corresponding output labels or target values. The purpose of a labeled training set is to train machine learning models to make predictions or classifications based on the input data.\n",
    "\n",
    "Here's how a labeled training set works:\n",
    "The input data represent the information or attributes that the machine learning model uses to make predictions or decisions. Each data point in the training set is paired with an output label or target value. The machine learning model is trained using the labeled training set. After training, the model's performance is assessed using a separate dataset called the validation set or test set. Once the model is trained and evaluated, it can be used to make predictions or classifications on new, unseen data. "
   ]
  },
  {
   "cell_type": "markdown",
   "metadata": {},
   "source": [
    "# Q4\n",
    "\n",
    "Two of the most important and widely used supervised learning tasks are:\n",
    "- Classification\n",
    "- Regression"
   ]
  },
  {
   "cell_type": "markdown",
   "metadata": {},
   "source": [
    "# Q5 \n",
    "\n",
    "Four examples of unsupervised learning tasks:\n",
    "- Clustering\n",
    "- Anomaly Detection\n",
    "- Dimentionality Reduction\n",
    "- Generative Modeling"
   ]
  },
  {
   "cell_type": "markdown",
   "metadata": {},
   "source": [
    "# Q6 \n",
    "\n",
    "To make a robot walk through various unfamiliar terrains, a machine learning model that would be well-suited for this task is a Reinforcement Learning (RL) model, specifically designed for robotic control and navigation."
   ]
  },
  {
   "cell_type": "markdown",
   "metadata": {},
   "source": [
    "# Q7 \n",
    "\n",
    "To divide customers into different groups based on their characteristics or behavior, we can use a K-Means Clustering algorithms. "
   ]
  },
  {
   "cell_type": "markdown",
   "metadata": {},
   "source": [
    "# Q8 \n",
    "\n",
    "Spam detection is typically considered a supervised learning problem."
   ]
  },
  {
   "cell_type": "markdown",
   "metadata": {},
   "source": [
    "# Q9\n",
    "\n",
    "An online learning system, also known as online machine learning or incremental learning, is a machine learning paradigm in which a model is continuously updated and improved as new data becomes available. Unlike traditional batch learning, where models are trained on fixed datasets offline, online learning systems adapt to changing data and can make predictions or updates in real-time as data streams in. "
   ]
  },
  {
   "cell_type": "markdown",
   "metadata": {},
   "source": [
    "# Q10\n",
    "\n",
    "Out-of-core learning and in-core (or core) learning are two approaches to handling large datasets in machine learning. They differ in how they manage data that may not fit entirely into the available memory (RAM) of a computer.\n",
    "- In-core learning, also referred to as core learning, assumes that the entire dataset can fit into the computer's memory (RAM) at once.\n",
    "- Out-of-core learning, on the other hand, is designed for situations where the dataset is too large to fit into memory, requiring a different strategy."
   ]
  },
  {
   "cell_type": "markdown",
   "metadata": {},
   "source": [
    "# Q11\n",
    "\n",
    "Machine learning algorithms that make predictions using a similarity measure are typically part of a category of algorithms known as Instance-Based Learning or Lazy Learning algorithms. These algorithms make predictions for new data points by comparing them to the data points in the training dataset and identifying the most similar data points based on a similarity measure. One of the most common similarity-based algorithms is the k-Nearest Neighbors (k-NN) algorithm."
   ]
  },
  {
   "cell_type": "markdown",
   "metadata": {},
   "source": [
    "# Q12\n",
    "\n",
    "In a machine learning algorithm, model parameters and hyperparameters serve distinct roles and have different characteristics:\n",
    "- Model Parameters: Model parameters are the internal variables that the machine learning algorithm learns from the training data to make predictions. The algorithm adjusts these parameters to minimize the difference between its predictions and the actual target values in the training set.\n",
    "\n",
    "- Hyperparameters: Hyperparameters are settings or configurations that are set prior to training the model. They control various aspects of the learning process and influence the model's behavior. Hyperparameter tuning is the process of selecting the best combination of hyperparameters to achieve the desired model performance. "
   ]
  },
  {
   "cell_type": "markdown",
   "metadata": {},
   "source": [
    "# Q13\n",
    "\n",
    "Model-based learning algorithms aim to build a mathematical model that can generalize from the training data to make predictions or decisions on new, unseen data. These algorithms typically follow a set of criteria and methods to achieve success:\n",
    "- Accuracy\n",
    "- Generalization\n",
    "- Interpretability\n",
    "- Efficiency\n",
    "\n",
    "The most popular method for achieving success in model-based learning is a combination of careful model selection, extensive training on quality data, thorough validation, and effective hyperparameter tuning.\n",
    "\n",
    "Methods for Model-Based Learning Algorithms:\n",
    "- Model Selection\n",
    "- Training \n",
    "- Validation\n",
    "- Hyperparameter Tuning\n",
    "- Prediction\n",
    "- Evaluation"
   ]
  },
  {
   "cell_type": "markdown",
   "metadata": {},
   "source": [
    "# Q14 \n",
    "\n",
    "Machine learning faces several challenges that impact its effectiveness and applicability in various domains. Four of the most important challenges in machine learning are:\n",
    "- Data Quality and Quantity\n",
    "- Overfitting and Generalization\n",
    "- Interpretable and Explainable Models\n",
    "- Bias and Fairness"
   ]
  },
  {
   "cell_type": "markdown",
   "metadata": {},
   "source": [
    "# Q15 \n",
    "\n",
    "When a machine learning model performs well on the training data but fails to generalize its results to new, unseen situations, it is typically suffering from overfitting. Overfitting occurs when the model learns the noise and specific details of the training data rather than capturing the underlying patterns. To address this issue and improve generalization, here are three different options:\n",
    "- Regularization\n",
    "- More Diverse Data\n",
    "- Feature Engineering\n",
    "- Cross-Validation\n",
    "- Simplifying the Model\n",
    "- Early Stopping\n",
    "- Ensemble Methods"
   ]
  },
  {
   "cell_type": "markdown",
   "metadata": {},
   "source": [
    "# Q16\n",
    "\n",
    "A test set, in the context of machine learning, is a separate and independent dataset that is used to evaluate the performance of a trained machine learning model. The primary purpose of a test set is to assess how well the model generalizes its predictions to new, unseen data. Here's why a test set is essential:\n",
    "- Performance Evaluation\n",
    "- Hyperparameter Tuning"
   ]
  },
  {
   "cell_type": "markdown",
   "metadata": {},
   "source": [
    "# Q17\n",
    "\n",
    "A validation set is a subset of data that is distinct from both the training set and the test set in a machine learning workflow. The primary purpose of a validation set is to assess the performance of a machine learning model during training and to aid in hyperparameter tuning and model selection. Here are the key purposes and roles of a validation set:\n",
    "- Hyperparameter Tuning\n",
    "- Overfitting Detection\n",
    "- Training Stopping Criteria"
   ]
  },
  {
   "cell_type": "markdown",
   "metadata": {},
   "source": [
    "# Q18 \n",
    "\n",
    "The term \"train-dev kit\" appears to be a combination of two common concepts in the machine learning workflow: the training set and the development set.\n",
    "\n",
    "- Training Set: The training set is a subset of the data used to train a machine learning model. It contains labeled examples that the model uses to learn patterns and relationships in the data.\n",
    "- Development Set (Dev Set): The development set, also known as the validation set, is a separate subset of the data that is used to evaluate the model's performance during training and to make decisions about hyperparameter tuning, model selection, and detecting overfitting."
   ]
  },
  {
   "cell_type": "markdown",
   "metadata": {},
   "source": [
    "# Q19 \n",
    "\n",
    "Using the test set to tune hyperparameters is generally not a good practice in machine learning because it can lead to several issues and compromises the reliability of model evaluation. Here are some of the potential problems that can arise when the test set is used for hyperparameter tuning:\n",
    "- Overfitting to the Test Set\n",
    "- Inflated Performance Metrics"
   ]
  }
 ],
 "metadata": {
  "kernelspec": {
   "display_name": "base",
   "language": "python",
   "name": "python3"
  },
  "language_info": {
   "name": "python",
   "version": "3.10.9"
  },
  "orig_nbformat": 4
 },
 "nbformat": 4,
 "nbformat_minor": 2
}
