{
 "cells": [
  {
   "cell_type": "markdown",
   "metadata": {},
   "source": [
    "# <center> iNeuron Python Basics Assignment-3 </center>"
   ]
  },
  {
   "cell_type": "markdown",
   "metadata": {},
   "source": [
    "![Alt text](image-1.png)"
   ]
  },
  {
   "cell_type": "markdown",
   "metadata": {},
   "source": [
    "# Q1\n",
    "\n",
    "Functions are advantageous to have in your programs for several reasons:\n",
    "\n",
    "- Modularity and Reusability: Functions allow you to break down your code into smaller, manageable pieces or modules. \n",
    "- Abstraction: Functions encapsulate a specific set of actions or operations, hiding the implementation details from the caller. \n",
    "- Readability: Well-named functions make your code more readable and self-explanatory. \n",
    "- Maintainability: Functions make it easier to maintain and debug your code. \n",
    "- Testing: Functions are testable units of code. \n",
    "- Code Reusability: Functions promote code reusability. \n",
    "- Parameterization: Functions can accept parameters, allowing you to create flexible and customizable code.\n",
    "- Encapsulation: Functions can encapsulate state and behavior, allowing you to create objects and data structures with well-defined interfaces. \n",
    "- Collaboration: Functions facilitate collaboration among developers. \n",
    "- Code Understanding: When you use functions, you can name them descriptively, which can make the purpose of your code more evident. "
   ]
  },
  {
   "cell_type": "markdown",
   "metadata": {},
   "source": [
    "# Q2 \n",
    "\n",
    "The code within a function in a programming language runs when the function is called, not when it's specified or defined. Functions act as reusable blocks of code that are defined in advance but only executed when they are invoked or called within your program."
   ]
  },
  {
   "cell_type": "markdown",
   "metadata": {},
   "source": [
    "# Q3\n",
    "\n",
    "A function is created using the def statement."
   ]
  },
  {
   "cell_type": "markdown",
   "metadata": {},
   "source": [
    "# Q4\n",
    "\n",
    "A function and a function call are two related but distinct concepts in programming:\n",
    "- Function: A Reusable block of code that performs a specific task or a set of related tasks.\n",
    "- Function Call: A function call is the act of invoking or executing a function to perform its defined task."
   ]
  },
  {
   "cell_type": "markdown",
   "metadata": {},
   "source": [
    "# Q5 \n",
    "\n",
    "In a Python program, there is one global scope and one or more local scopes depending on how many functions are defined within the program."
   ]
  },
  {
   "cell_type": "markdown",
   "metadata": {},
   "source": [
    "# Q6 \n",
    "\n",
    "When a function call returns in Python, the variables that were defined within the local scope of that function cease to exist. In other words, local variables are destroyed, and their values are no longer accessible once the function completes its execution. This is known as variable scope and lifetime."
   ]
  },
  {
   "cell_type": "markdown",
   "metadata": {},
   "source": [
    "# Q7 \n",
    "\n",
    "The concept of a return value in programming refers to the value that a function provides as its result when it is called or invoked. When a function is designed, it may perform certain operations, calculations, or tasks, and it can optionally return a value to the caller. This returned value can be used in expressions, assigned to variables, or otherwise processed by the calling code. Yes, you can use a return value in an expression."
   ]
  },
  {
   "cell_type": "markdown",
   "metadata": {},
   "source": [
    "# Q8 \n",
    "\n",
    "If a function does not have a return statement, it will implicitly return a special value often referred to as \"None\" or \"null\" depending on the language. In Python, the value is called \"None.\""
   ]
  },
  {
   "cell_type": "markdown",
   "metadata": {},
   "source": [
    "# Q9\n",
    "\n",
    "To make a function variable refer to a global variable by using the global keyword within the function."
   ]
  },
  {
   "cell_type": "markdown",
   "metadata": {},
   "source": [
    "# Q10"
   ]
  },
  {
   "cell_type": "code",
   "execution_count": 4,
   "metadata": {},
   "outputs": [
    {
     "name": "stdout",
     "output_type": "stream",
     "text": [
      "The data type of none is <class 'NoneType'>\n"
     ]
    }
   ],
   "source": [
    "print(f\"The data type of none is {type(None)}\")"
   ]
  },
  {
   "cell_type": "markdown",
   "metadata": {},
   "source": [
    "# Q11\n",
    "\n",
    "The sentence \"import areallyourpetsnamederic\" does not perform any valid import operation in Python because \"areallyourpetsnamederic\" is not a valid Python module or package name. In Python, when you use the import statement, you need to specify the name of a valid module or package that can be imported."
   ]
  },
  {
   "cell_type": "markdown",
   "metadata": {},
   "source": [
    "# Q12\n",
    "\n",
    "To import a module named \"spam\" that contains a function called \"bacon,\" you would call it by using the module name followed by the function name separated by a dot. Here's how you would call the \"bacon\" function after importing the \"spam\" module:\n",
    "\n",
    "import spam\n",
    "\n",
    "result = spam.bacon()\n",
    "\n",
    "In this example, we import the \"spam\" module, and then we can access the \"bacon\" function using the syntax spam.bacon(). The result variable would contain the return value of the \"bacon\" function if it returns anything."
   ]
  },
  {
   "cell_type": "markdown",
   "metadata": {},
   "source": [
    "# Q13\n",
    "\n",
    "To prevent a program from crashing when it encounters an error, you can implement error handling mechanisms, we can use try-except blocks to catch and handle exceptions (errors) gracefully."
   ]
  },
  {
   "cell_type": "markdown",
   "metadata": {},
   "source": [
    "# Q14\n",
    "\n",
    "The try and except clauses are used for error handling and control flow. They serve the following purposes:\n",
    "\n",
    "- try Clause: It is used to enclose a block of code where you expect one or more exceptions (errors) to potentially occur. Its primary purpose is to create a context where you can monitor for exceptions without the program crashing. If an exception occurs within the try block, the program immediately jumps to the corresponding except block to handle the error.\n",
    "\n",
    "- except Clause: It follows the try block and defines how you want to handle specific exceptions that may occur within the try block. It allows you to specify code that will run when a particular exception is raised. The purpose of the except clause is to catch and manage exceptions in a controlled and organized manner, preventing them from causing your program to crash."
   ]
  }
 ],
 "metadata": {
  "kernelspec": {
   "display_name": "base",
   "language": "python",
   "name": "python3"
  },
  "language_info": {
   "codemirror_mode": {
    "name": "ipython",
    "version": 3
   },
   "file_extension": ".py",
   "mimetype": "text/x-python",
   "name": "python",
   "nbconvert_exporter": "python",
   "pygments_lexer": "ipython3",
   "version": "3.10.9"
  },
  "orig_nbformat": 4
 },
 "nbformat": 4,
 "nbformat_minor": 2
}
