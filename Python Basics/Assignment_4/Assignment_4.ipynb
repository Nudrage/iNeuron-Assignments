{
 "cells": [
  {
   "cell_type": "markdown",
   "metadata": {},
   "source": [
    "# <center> iNeuron Python Basics Assignment-4 </center>"
   ]
  },
  {
   "cell_type": "markdown",
   "metadata": {},
   "source": [
    "![Alt text](image.png)\n",
    "![Alt text](image-1.png)"
   ]
  },
  {
   "cell_type": "markdown",
   "metadata": {},
   "source": [
    "# Q1 \n",
    "\n",
    "The symbol \"[]\" in programming typically represents an empty list or an empty array"
   ]
  },
  {
   "cell_type": "markdown",
   "metadata": {},
   "source": [
    "# Q2\n",
    "\n",
    "To assign the value 'hello' as the third value in the list stored in the variable spam, you can use the following code:\n",
    "spam[2] = 'hello'       # Assign 'hello' to the third element (index 2)"
   ]
  },
  {
   "cell_type": "code",
   "execution_count": 2,
   "metadata": {},
   "outputs": [
    {
     "name": "stdout",
     "output_type": "stream",
     "text": [
      "Spam before modificaiton = ['a', 'b', 'c', 'd']\n",
      "Spam after modificaiton  = ['a', 'b', 'hello', 'd']\n"
     ]
    }
   ],
   "source": [
    "spam = [2, 4, 6, 8, 10]\n",
    "print(f\"Spam before modificaiton = {spam}\")\n",
    "\n",
    "spam[2] = 'hello'\n",
    "print(f\"Spam after modificaiton  = {spam}\")"
   ]
  },
  {
   "cell_type": "markdown",
   "metadata": {},
   "source": [
    "# Q3"
   ]
  },
  {
   "cell_type": "code",
   "execution_count": 6,
   "metadata": {},
   "outputs": [
    {
     "data": {
      "text/plain": [
       "'d'"
      ]
     },
     "execution_count": 6,
     "metadata": {},
     "output_type": "execute_result"
    }
   ],
   "source": [
    "spam = ['a', 'b','c', 'd']\n",
    "spam[int(int('3' * 2) / 11)]"
   ]
  },
  {
   "cell_type": "markdown",
   "metadata": {},
   "source": [
    "# Q4"
   ]
  },
  {
   "cell_type": "code",
   "execution_count": 7,
   "metadata": {},
   "outputs": [
    {
     "data": {
      "text/plain": [
       "'d'"
      ]
     },
     "execution_count": 7,
     "metadata": {},
     "output_type": "execute_result"
    }
   ],
   "source": [
    "spam[-1]"
   ]
  },
  {
   "cell_type": "markdown",
   "metadata": {},
   "source": [
    "# Q5"
   ]
  },
  {
   "cell_type": "code",
   "execution_count": 8,
   "metadata": {},
   "outputs": [
    {
     "data": {
      "text/plain": [
       "['a', 'b']"
      ]
     },
     "execution_count": 8,
     "metadata": {},
     "output_type": "execute_result"
    }
   ],
   "source": [
    "spam[:2]"
   ]
  },
  {
   "cell_type": "markdown",
   "metadata": {},
   "source": [
    "# Q6"
   ]
  },
  {
   "cell_type": "code",
   "execution_count": 13,
   "metadata": {},
   "outputs": [
    {
     "data": {
      "text/plain": [
       "1"
      ]
     },
     "execution_count": 13,
     "metadata": {},
     "output_type": "execute_result"
    }
   ],
   "source": [
    "bacon = [3.14, 'cat', 11, 'cat', True]\n",
    "bacon.index('cat')"
   ]
  },
  {
   "cell_type": "markdown",
   "metadata": {},
   "source": [
    "# Q7"
   ]
  },
  {
   "cell_type": "code",
   "execution_count": 14,
   "metadata": {},
   "outputs": [
    {
     "name": "stdout",
     "output_type": "stream",
     "text": [
      "Bacon before modification = [3.14, 'cat', 11, 'cat', True]\n",
      "Bacon after modification  = [3.14, 'cat', 11, 'cat', True, 99]\n"
     ]
    }
   ],
   "source": [
    "print(f\"Bacon before modification = {bacon}\")\n",
    "\n",
    "bacon.append(99)\n",
    "print(f\"Bacon after modification  = {bacon}\")"
   ]
  },
  {
   "cell_type": "markdown",
   "metadata": {},
   "source": [
    "# Q8"
   ]
  },
  {
   "cell_type": "code",
   "execution_count": 15,
   "metadata": {},
   "outputs": [
    {
     "name": "stdout",
     "output_type": "stream",
     "text": [
      "Bacon before modification = [3.14, 'cat', 11, 'cat', True, 99]\n",
      "Bacon after modification  = [3.14, 11, 'cat', True, 99]\n"
     ]
    }
   ],
   "source": [
    "print(f\"Bacon before modification = {bacon}\")\n",
    "\n",
    "bacon.remove('cat')\n",
    "print(f\"Bacon after modification  = {bacon}\")"
   ]
  },
  {
   "cell_type": "markdown",
   "metadata": {},
   "source": [
    "# Q9\n",
    "\n",
    "In Python, you can concatenate lists and replicate (duplicate) lists using the following operators:\n",
    "- List Concatenation Operator (+): The + operator is used to concatenate two or more lists, creating a new list that contains all the elements from the concatenated lists.\n",
    "Here's an example:\n",
    "list1 = [1, 2, 3]\n",
    "list2 = [4, 5, 6]\n",
    "concatenated_list = [1, 2, 3, 4, 5, 6]\n",
    "\n",
    "- List Replication Operator (*): The * operator is used to replicate (duplicate) a list by a specified number of times.\n",
    "Here's an example:\n",
    "original_list = [1, 2, 3]\n",
    "replicated_list = original_list * 3\n",
    "replicated_list = [1, 2, 3, 1, 2, 3, 1, 2, 3]"
   ]
  },
  {
   "cell_type": "markdown",
   "metadata": {},
   "source": [
    "# Q10\n",
    "\n",
    "The append() and insert() methods in Python are used to add elements to a list, but they do so in slightly different ways:\n",
    "- append() Method: The append() method is used to add an element to the end of a list.\n",
    "Here's an example:\n",
    "my_list = [1, 2, 3] \n",
    "my_list.append(4)   \n",
    "my_list = [1, 2, 3, 4] \n",
    "\n",
    "- insert() Method: The insert() method is used to add an element to a specific position (index) within the list.\n",
    "Here's an example:\n",
    "my_list = [1, 2, 3]\n",
    "my_list.insert(1, 4)\n",
    "my_list = [1, 4, 2, 3]"
   ]
  },
  {
   "cell_type": "markdown",
   "metadata": {},
   "source": [
    "# Q11\n",
    "\n",
    "In Python, there are two common methods for removing items from a list:\n",
    "\n",
    "- remove() Method: The remove() method is used to remove the first occurrence of a specified value from a list. \n",
    "Here's an example: \n",
    "my_list = [1, 2, 3, 2, 4]\n",
    "my_list.remove(2)\n",
    "my_list = [1, 3, 2, 4]\n",
    "\n",
    "- pop() Method: The pop() method is used to remove and return an element from a specific index in the list.\n",
    "Here's an example:\n",
    "my_list = [1, 2, 3, 4]\n",
    "removed_element = my_list.pop(1)\n",
    "my_list = [1, 3, 4]"
   ]
  },
  {
   "cell_type": "markdown",
   "metadata": {},
   "source": [
    "# Q12\n",
    "\n",
    "List values and string values in Python share some similarities and have certain characteristics in common:\n",
    "\n",
    "- Ordered Sequences: This means that the elements within them have a specific order, and you can access individual elements by their position or index within the sequence.\n",
    "- Indexing and Slicing: You can use indexing to access individual elements within both lists and strings. \n",
    "- Iterability: Both lists and strings are iterable, which means you can loop through their elements using loops like for loops or iterator functions like enumerate().\n",
    "- Concatenation: Lists and strings can be concatenated. \n",
    "- Repetition: Both lists and strings can be replicated (duplicated) by using the * operator. This creates a new sequence by repeating the original sequence multiple times."
   ]
  },
  {
   "cell_type": "markdown",
   "metadata": {},
   "source": [
    "# Q13\n",
    "\n",
    "Tuples and lists in Python are both used to store collections of items, but they have several key differences:\n",
    "- Mutability: Lists are mutable, which means you can change, add, or remove elements after the list is created. You can use methods like append(), extend(), insert(), remove(), and pop() to modify lists. Tuples are immutable.\n",
    "- Syntax: Lists are created using square brackets [] or the list() constructor. Tuples are created using parentheses () or the tuple() constructor. \n",
    "- Performance: Lists are slightly less memory-efficient and have a slightly slower access time compared to tuples due to their mutability. When you modify a list, it may involve reallocating memory.\n",
    "- Use Cases: Lists are typically used when you need a collection of items that may change during the course of your program. Tuples are used when you want to create a collection of items that should not be modified. \n",
    "- Iteration: Both lists and tuples can be iterated over using loops like for loops, making them iterable data types."
   ]
  },
  {
   "cell_type": "markdown",
   "metadata": {},
   "source": [
    "# Q14"
   ]
  },
  {
   "cell_type": "code",
   "execution_count": null,
   "metadata": {},
   "outputs": [],
   "source": [
    "my_tuple = (42,)\n",
    "print(f\"This is how we can write a tuple with an element value 42 \")"
   ]
  },
  {
   "cell_type": "markdown",
   "metadata": {},
   "source": [
    "# Q15\n",
    "\n",
    "To convert a list to a tuple and a tuple to a list in Python, you can use the tuple() constructor to convert a list to a tuple and the list() constructor to convert a tuple to a list."
   ]
  },
  {
   "cell_type": "markdown",
   "metadata": {},
   "source": [
    "# Q16\n",
    "\n",
    "In Python, variables that \"contain\" list values do not actually contain the list itself; rather, they contain a reference or pointer to the list object stored in memory."
   ]
  },
  {
   "cell_type": "markdown",
   "metadata": {},
   "source": [
    "# Q17\n",
    "\n",
    "In Python, the copy module provides two methods for creating copies of objects: copy.copy() and copy.deepcopy(). These methods are used to duplicate objects, but they differ in their behavior regarding nested objects or objects with complex structures. Here's how you can distinguish between them:\n",
    "- copy.copy() (Shallow Copy): copy.copy() creates a new object (a shallow copy) that is a duplicate of the original object. Changes made to elements within the copied object (e.g., elements in a list) will affect the original object, and vice versa. However, the objects themselves remain distinct. It is suitable for duplicating simple structures when you don't need to create independent copies of nested objects.\n",
    "- copy.deepcopy() (Deep Copy): copy.deepcopy() creates a completely independent duplicate of the original object, including all nested objects, recursively. It creates a new object with new copies of all the objects contained within the original object's hierarchy. Changes made to elements within the copied object or its nested objects will not affect the original object, and vice versa."
   ]
  }
 ],
 "metadata": {
  "kernelspec": {
   "display_name": "base",
   "language": "python",
   "name": "python3"
  },
  "language_info": {
   "codemirror_mode": {
    "name": "ipython",
    "version": 3
   },
   "file_extension": ".py",
   "mimetype": "text/x-python",
   "name": "python",
   "nbconvert_exporter": "python",
   "pygments_lexer": "ipython3",
   "version": "3.10.9"
  },
  "orig_nbformat": 4
 },
 "nbformat": 4,
 "nbformat_minor": 2
}
