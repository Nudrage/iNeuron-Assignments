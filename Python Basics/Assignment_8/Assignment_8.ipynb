{
 "cells": [
  {
   "cell_type": "markdown",
   "metadata": {},
   "source": [
    "# <center> iNeuron Python Basic Assignment-8 </center>"
   ]
  },
  {
   "cell_type": "markdown",
   "metadata": {},
   "source": [
    "![Alt text](image.png)"
   ]
  },
  {
   "cell_type": "markdown",
   "metadata": {},
   "source": [
    "# Q1\n",
    "\n",
    "No, the Python Standard Library is not included with PyInputPlus. PyInputPlus is a separate third-party library that provides extended input validation and handling capabilities beyond what the Python Standard Library's input() function offers."
   ]
  },
  {
   "cell_type": "markdown",
   "metadata": {},
   "source": [
    "# Q2\n",
    "\n",
    "PyInputPlus is commonly imported with the alias pypi for brevity and convenience. Using import pyinputplus as pypi allows you to use shorter function calls and makes the code more readable when using PyInputPlus functions. For example, you can write pypi.inputInt() instead of pyinputplus.inputInt()."
   ]
  },
  {
   "cell_type": "markdown",
   "metadata": {},
   "source": [
    "# Q3\n",
    "\n",
    "You can distinguish between inputInt() and inputFloat() in PyInputPlus based on their names and the type of input they expect:\n",
    "- inputInt(): Expects the user to enter an integer (whole number) and raises an error if a non-integer value is provided.\n",
    "- inputFloat(): Expects the user to enter a floating-point number (a number with a decimal point) and raises an error if a non-float value is provided."
   ]
  },
  {
   "cell_type": "markdown",
   "metadata": {},
   "source": [
    "# Q4\n",
    "\n",
    "To ensure that the user enters a whole number between 0 and 99 using PyInputPlus, you can use the inputInt() function with the min and max keyword arguments like this:"
   ]
  },
  {
   "cell_type": "code",
   "execution_count": 4,
   "metadata": {},
   "outputs": [
    {
     "name": "stdout",
     "output_type": "stream",
     "text": [
      "Enter a number between 0 and 99: "
     ]
    }
   ],
   "source": [
    "import pyinputplus as pypi\n",
    "\n",
    "user_input = pypi.inputInt(prompt=\"Enter a number between 0 and 99: \", min=0, max=99)"
   ]
  },
  {
   "cell_type": "markdown",
   "metadata": {},
   "source": [
    "# Q5\n",
    "\n",
    "The allowRegexes and blockRegexes keyword arguments in PyInputPlus allow you to define regular expressions (regexes) that specify which input values are allowed and which ones are blocked. These arguments accept lists of regex patterns as strings. Input values that match any regex pattern in allowRegexes are allowed, while input values that match any pattern in blockRegexes are blocked."
   ]
  },
  {
   "cell_type": "markdown",
   "metadata": {},
   "source": [
    "# Q6\n",
    "\n",
    "If a blank input is entered three times using inputStr(limit=3), PyInputPlus will raise a ValidationException after the third blank input is provided. The limit parameter defines how many attempts the user has before an exception is raised. In this case, after three blank inputs, PyInputPlus will assume that the user is not providing valid input and raise an exception."
   ]
  },
  {
   "cell_type": "markdown",
   "metadata": {},
   "source": [
    "# Q7\n",
    "\n",
    "If blank input is entered three times using inputStr(limit=3, default='hello'), PyInputPlus will not raise an exception. Instead, it will return the default value 'hello' after the third blank input is provided. The default parameter specifies the value to return when the user exceeds the limit of input attempts without providing valid input."
   ]
  },
  {
   "cell_type": "markdown",
   "metadata": {},
   "source": []
  }
 ],
 "metadata": {
  "kernelspec": {
   "display_name": "base",
   "language": "python",
   "name": "python3"
  },
  "language_info": {
   "codemirror_mode": {
    "name": "ipython",
    "version": 3
   },
   "file_extension": ".py",
   "mimetype": "text/x-python",
   "name": "python",
   "nbconvert_exporter": "python",
   "pygments_lexer": "ipython3",
   "version": "3.10.9"
  },
  "orig_nbformat": 4
 },
 "nbformat": 4,
 "nbformat_minor": 2
}
