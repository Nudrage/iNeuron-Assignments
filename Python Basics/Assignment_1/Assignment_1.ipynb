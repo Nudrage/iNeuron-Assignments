{
 "cells": [
  {
   "cell_type": "markdown",
   "metadata": {},
   "source": [
    "# iNeuron Python Basics Assignment-1"
   ]
  },
  {
   "cell_type": "markdown",
   "metadata": {},
   "source": [
    "# Q1\n",
    "\n",
    "- '*'       -> expression\n",
    "- 'hello'   -> value(string)\n",
    "- -87.8     -> value(float)\n",
    "- '-'       -> expression\n",
    "- '/'       -> expression\n",
    "- '+'       -> expression\n",
    "- 6         -> value (integer)"
   ]
  },
  {
   "cell_type": "markdown",
   "metadata": {},
   "source": [
    "# Q2 \n",
    "\n",
    "A string and a variable are two different concepts in programming:\n",
    "- String - A string is a data type used to represent text or sequences of characters. Strings can contain letters, numbers, symbols, spaces, and any other characters.\n",
    "\n",
    "- Variable - A variable is a symbolic name or identifier that can store different types of data, including strings. Variables are used to store and manipulate data in a program. They provide a way to label and reference values in memory."
   ]
  },
  {
   "cell_type": "markdown",
   "metadata": {},
   "source": [
    "# Q3 \n",
    "\n",
    "The three different data types commonly used in programming:\n",
    "- Integer (int):\n",
    "An integer data type represents whole numbers without any fractional or decimal parts. Integers can be positive, negative, or zero. \n",
    "Examples: -3, 0, 42, 1001.\n",
    "\n",
    "- Floating-Point (float):\n",
    "A floating-point data type represents real numbers with a decimal point. It can represent both integers and numbers with fractional parts. Examples: -3.14, 0.5, 2.71828, 123.456.\n",
    "\n",
    "- String (str):\n",
    "A string data type represents a sequence of characters, including letters, digits, symbols, and whitespace. Strings are used to work with text data. \n",
    "Examples: \"Hello, World!\", 'Python', \"12345\"."
   ]
  },
  {
   "cell_type": "markdown",
   "metadata": {},
   "source": [
    "# Q4\n",
    "\n",
    "An expression in programming is made up of one or more of the following elements:\n",
    "- Values: These are the actual data, such as numbers, strings, or boolean values, that the expression operates on. \n",
    "- Variables: Variables are symbolic names that represent values. They can be used within expressions to refer to the data they store. \n",
    "- Operators: Operators are symbols or special keywords that perform operations on values or variables. These operations can be mathematical, logical, or relational.\n",
    "- Functions: Functions are reusable blocks of code that take one or more input values (arguments) and return a result. \n",
    "\n",
    "\n",
    "Expressions in programming serve various purposes:\n",
    "- Calculate Values: Expressions are often used to calculate values based on the provided inputs.\n",
    "- Assign Values: Expressions can be used to assign values to variables. \n",
    "- Make Decisions: Expressions are used in conditional statements to evaluate conditions and make decisions based on the results of those expressions.\n",
    "- Perform Operations: Expressions can be used to perform various operations, such as string concatenation, mathematical calculations, logical comparisons, and more, depending on the context in which they are used."
   ]
  },
  {
   "cell_type": "markdown",
   "metadata": {},
   "source": [
    "# Q5\n",
    "\n",
    "In the assignment statement spam = 10, spam is a variable, and 10 is an expression. The statement assigns the value 10 to the variable spam. So, this line of code is both an assignment statement and contains an expression (10)."
   ]
  },
  {
   "cell_type": "markdown",
   "metadata": {},
   "source": [
    "# Q6"
   ]
  },
  {
   "cell_type": "code",
   "execution_count": 1,
   "metadata": {},
   "outputs": [
    {
     "name": "stdout",
     "output_type": "stream",
     "text": [
      "The variable Bacon contains 22\n"
     ]
    }
   ],
   "source": [
    "bacon = 22 \n",
    "bacon + 1\n",
    "print(f\"The variable Bacon contains {bacon}\")"
   ]
  },
  {
   "cell_type": "markdown",
   "metadata": {},
   "source": [
    "# Q7 "
   ]
  },
  {
   "cell_type": "code",
   "execution_count": 2,
   "metadata": {},
   "outputs": [
    {
     "name": "stdout",
     "output_type": "stream",
     "text": [
      "'spam' + 'spamspam' = spamspamspam\n",
      "'span' * 3 = spamspamspam\n"
     ]
    }
   ],
   "source": [
    "ans = \"spam\"+\"spamspam\"\n",
    "print(f\"'spam' + 'spamspam' = {ans}\")\n",
    "\n",
    "ans = \"spam\"*3\n",
    "print(f\"'span' * 3 = {ans}\")"
   ]
  },
  {
   "cell_type": "markdown",
   "metadata": {},
   "source": [
    "# Q8\n",
    "\n",
    "These rules determine what is a valid variable name and what is not. Here's why 'eggs' is a valid variable name while 100 is invalid:\n",
    "- Start with a letter or underscore\n",
    "- Followed by letters, digits, or underscores\n",
    "- Avoiding reserved words"
   ]
  },
  {
   "cell_type": "markdown",
   "metadata": {},
   "source": [
    "# Q9\n",
    "\n",
    "The following three functions to convert a value to its integer, floating-point number, or string version:\n",
    "- int()\n",
    "- float()\n",
    "- str()"
   ]
  },
  {
   "cell_type": "markdown",
   "metadata": {},
   "source": [
    "# Q10\n",
    "\n",
    "The expression 'I have eaten' + 99 + 'burritos.' causes an error because you are trying to concatenate a string with an integer (99) without explicitly converting the integer to a string first.\n",
    "To fix this error, you should convert the integer 99 to a string using the str() function and then concatenate it with the other strings. Here's the corrected expression: 'I have eaten ' + str(99) + ' burritos.'. Now, this expression will work correctly and result in the string 'I have eaten 99 burritos.'"
   ]
  }
 ],
 "metadata": {
  "kernelspec": {
   "display_name": "base",
   "language": "python",
   "name": "python3"
  },
  "language_info": {
   "codemirror_mode": {
    "name": "ipython",
    "version": 3
   },
   "file_extension": ".py",
   "mimetype": "text/x-python",
   "name": "python",
   "nbconvert_exporter": "python",
   "pygments_lexer": "ipython3",
   "version": "3.10.9"
  },
  "orig_nbformat": 4
 },
 "nbformat": 4,
 "nbformat_minor": 2
}
