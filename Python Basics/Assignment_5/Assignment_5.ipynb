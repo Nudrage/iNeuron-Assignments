{
 "cells": [
  {
   "cell_type": "markdown",
   "metadata": {},
   "source": [
    "# <center> iNeuron Python Basics Assignment-5 </center>"
   ]
  },
  {
   "cell_type": "markdown",
   "metadata": {},
   "source": [
    "![Alt text](image.png)"
   ]
  },
  {
   "cell_type": "markdown",
   "metadata": {},
   "source": [
    "# Q1 \n",
    "\n",
    "An empty dictionary in Python is represented by a pair of curly braces with no key-value pairs inside. Here's what it looks like: empty_dict = {}"
   ]
  },
  {
   "cell_type": "markdown",
   "metadata": {},
   "source": [
    "# Q2\n",
    "\n",
    "A dictionary value with the key 'foo' and the value 42 would look like this: my_dict = {'foo': 42}"
   ]
  },
  {
   "cell_type": "markdown",
   "metadata": {},
   "source": [
    "# Q3 \n",
    "\n",
    "The most significant distinction between a dictionary and a list is that a dictionary is an unordered collection of key-value pairs, while a list is an ordered collection of elements. In a list, elements are accessed by their position (index), whereas in a dictionary, values are accessed by their associated keys."
   ]
  },
  {
   "cell_type": "markdown",
   "metadata": {},
   "source": [
    "# Q4\n",
    "\n",
    "If you try to access spam['foo'] when spam is {'bar': 100}, you will get a KeyError because the key 'foo' does not exist in the dictionary spam. To avoid this error, you can use a conditional statement or the get() method with a default value."
   ]
  },
  {
   "cell_type": "markdown",
   "metadata": {},
   "source": [
    "# Q5 \n",
    "\n",
    "If a dictionary is stored in spam, the expression 'cat' in spam checks if there is a key 'cat' in the dictionary spam. It returns True if the key exists and False if it does not."
   ]
  },
  {
   "cell_type": "markdown",
   "metadata": {},
   "source": [
    "# Q6\n",
    "\n",
    "If a dictionary is stored in spam, the expression 'cat' in spam.values() checks if the string 'cat' appears as a value in the dictionary spam. It returns True if the value exists and False if it does not."
   ]
  },
  {
   "cell_type": "markdown",
   "metadata": {},
   "source": [
    "# Q7 \n",
    "\n",
    "You can use the setdefault() method as a shortcut to add a key-value pair to a dictionary if the key does not already exist. Here's the equivalent code using setdefault():\n",
    "<center> spam.setdefault('color', 'black')  </center>\n",
    "This code checks if the key 'color' exists in the spam dictionary. If it does not, it adds the key 'color' with the value 'black'. If the key 'color' already exists, it does nothing."
   ]
  },
  {
   "cell_type": "markdown",
   "metadata": {},
   "source": [
    "# Q8\n",
    "\n",
    "To \"pretty print\" dictionary values in a more readable format, you can use the pprint module and its pprint() function. Here's how to do it:  \n",
    "\n",
    "import pprint  \n",
    "my_dict = {'name': 'John', 'age': 30, 'city': 'New York'}  \n",
    "pprint.pprint(my_dict)  \n",
    "\n",
    "This will format and display the dictionary my_dict in a more visually organized way, especially useful for large and nested dictionaries."
   ]
  }
 ],
 "metadata": {
  "language_info": {
   "name": "python"
  },
  "orig_nbformat": 4
 },
 "nbformat": 4,
 "nbformat_minor": 2
}
