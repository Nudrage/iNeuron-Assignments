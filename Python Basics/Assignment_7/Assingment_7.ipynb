{
 "cells": [
  {
   "cell_type": "markdown",
   "metadata": {},
   "source": [
    "# <center> iNeuron Python Basics Assignment-7 </center>"
   ]
  },
  {
   "cell_type": "markdown",
   "metadata": {},
   "source": [
    "![Alt text](image.png)\n",
    "![Alt text](image-1.png)\n",
    "![Alt text](image-2.png)\n",
    "![Alt text](image-3.png)"
   ]
  },
  {
   "cell_type": "markdown",
   "metadata": {},
   "source": [
    "# Q1\n",
    "\n",
    "The feature responsible for generating Regex objects in Python is the re.compile() function. It compiles a regular expression pattern into a Regex object that can be used for matching operations."
   ]
  },
  {
   "cell_type": "markdown",
   "metadata": {},
   "source": [
    "# Q2\n",
    "\n",
    "Raw strings (strings preceded by r) are often used in Regex objects to avoid interpreting backslashes as escape characters. This is because regular expressions often contain many backslashes, and using raw strings helps to simplify and clarify the patterns."
   ]
  },
  {
   "cell_type": "markdown",
   "metadata": {},
   "source": [
    "# Q3\n",
    "\n",
    "The search() method in Python's re module returns a Match object if a match is found, and None if no match is found."
   ]
  },
  {
   "cell_type": "markdown",
   "metadata": {},
   "source": [
    "# Q4\n",
    "\n",
    "To get the actual strings that match the pattern from a Match object, you can use the group() method. For example, match.group() returns the entire matched string."
   ]
  },
  {
   "cell_type": "markdown",
   "metadata": {},
   "source": [
    "# Q5\n",
    "\n",
    "In the regex r'(\\d\\d\\d)-(\\d\\d\\d-\\d\\d\\d\\d)', group 0 covers the entire matched string, group 1 covers the first set of three digits within parentheses, and group 2 covers the second set of three digits separated by a hyphen."
   ]
  },
  {
   "cell_type": "markdown",
   "metadata": {},
   "source": [
    "# Q6\n",
    "\n",
    "To match real parentheses and periods in a regex pattern, you can escape them using a backslash. For example, to match a literal '(' and ')', you can use \\( and \\)."
   ]
  },
  {
   "cell_type": "markdown",
   "metadata": {},
   "source": [
    "# Q7 \n",
    "\n",
    "The findall() method returns a list of matching substrings if there are no capturing groups in the regular expression. If there are capturing groups, it returns a list of tuples where each tuple contains the captured groups."
   ]
  },
  {
   "cell_type": "markdown",
   "metadata": {},
   "source": [
    "# Q8\n",
    "\n",
    "In regular expressions, the | character is used to indicate an OR operation. For example, a|b matches either 'a' or 'b'."
   ]
  },
  {
   "cell_type": "markdown",
   "metadata": {},
   "source": [
    "# Q9\n",
    "\n",
    "In regular expressions, the \\d character is a shorthand character class that matches any digit (equivalent to [0-9]). \\w matches any word character (equivalent to [a-zA-Z0-9_]), and \\s matches any whitespace character (e.g., space, tab, newline)."
   ]
  },
  {
   "cell_type": "markdown",
   "metadata": {},
   "source": [
    "# Q10\n",
    "\n",
    "In regular expressions, the + character matches one or more occurrences of the preceding element. The * character matches zero or more occurrences of the preceding element."
   ]
  },
  {
   "cell_type": "markdown",
   "metadata": {},
   "source": [
    "# Q11\n",
    "\n",
    "{4} in a regular expression specifies that the preceding element should occur exactly 4 times. {4,5} specifies that the preceding element should occur between 4 and 5 times."
   ]
  },
  {
   "cell_type": "markdown",
   "metadata": {},
   "source": [
    "# Q12\n",
    "\n",
    "In regular expressions, \\D is a shorthand character class that matches any non-digit character (equivalent to [^0-9]). \\W matches any non-word character (equivalent to [^a-zA-Z0-9_]), and \\S matches any non-whitespace character."
   ]
  },
  {
   "cell_type": "markdown",
   "metadata": {},
   "source": [
    "# Q13\n",
    "\n",
    "In regular expressions, \\d, \\w, and \\s represent shorthand character classes for digit, word character, and whitespace character respectively. \\D, \\W, and \\S are their negations, representing non-digit, non-word character, and non-whitespace character respectively."
   ]
  },
  {
   "cell_type": "markdown",
   "metadata": {},
   "source": [
    "# Q14\n",
    "\n",
    "The difference between .*? and .* is in their greediness. .*? is a non-greedy or lazy quantifier and matches as few characters as possible. .* is a greedy quantifier and matches as many characters as possible."
   ]
  },
  {
   "cell_type": "markdown",
   "metadata": {},
   "source": [
    "# Q15\n",
    "\n",
    "To write a character class that matches both numbers and lowercase letters, you can use [0-9a-z] or [a-z0-9]."
   ]
  },
  {
   "cell_type": "markdown",
   "metadata": {},
   "source": [
    "# Q16\n",
    "\n",
    "To make a regular expression case insensitive, you can use the re.IGNORECASE flag or re.I as the second argument to re.compile()."
   ]
  },
  {
   "cell_type": "markdown",
   "metadata": {},
   "source": [
    "# Q17\n",
    "\n",
    "The . character in regular expressions normally matches any character except a newline. If re.DOTALL (or re.S) is passed as the second argument to re.compile(), it makes the . character match any character, including a newline."
   ]
  },
  {
   "cell_type": "markdown",
   "metadata": {},
   "source": [
    "# Q18\n",
    "\n",
    "numRegex.sub('X', '11 drummers, 10 pipers, five rings, 4 hen') will return the string 'X drummers, X pipers, five rings, X hen'. It replaces all occurrences of one or more digits with 'X'."
   ]
  },
  {
   "cell_type": "markdown",
   "metadata": {},
   "source": [
    "# Q19\n",
    "\n",
    "Passing re.VERBOSE as the second argument to re.compile() allows you to add comments and whitespace to the regular expression for better readability without affecting the pattern's functionality."
   ]
  },
  {
   "cell_type": "markdown",
   "metadata": {},
   "source": [
    "# Q20\n",
    "\n",
    "To match a number with commas for every three digits, you can use the regular expression r'\\d{1,3}(,\\d{3})*'. This pattern matches one to three digits followed by zero or more groups of a comma and three digits."
   ]
  },
  {
   "cell_type": "markdown",
   "metadata": {},
   "source": [
    "# Q21\n",
    "\n",
    "To match the full name of someone whose last name is Watanabe with a capitalized first name, you can use the regular expression r'[A-Z][a-zA-Z]*\\sWatanabe'."
   ]
  },
  {
   "cell_type": "markdown",
   "metadata": {},
   "source": [
    "# Q22\n",
    "\n",
    "To match the described sentence, you can use the following case-insensitive regular expression: r'(Alice|Bob|Carol)\\s(eats|pets|throws)\\s(apples|cats|baseballs)\\.'."
   ]
  }
 ],
 "metadata": {
  "language_info": {
   "name": "python"
  },
  "orig_nbformat": 4
 },
 "nbformat": 4,
 "nbformat_minor": 2
}
