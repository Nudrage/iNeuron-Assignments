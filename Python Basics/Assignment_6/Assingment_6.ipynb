{
 "cells": [
  {
   "cell_type": "markdown",
   "metadata": {},
   "source": [
    "# <center> iNeuron Python Basics Assignment-6 </center>"
   ]
  },
  {
   "cell_type": "markdown",
   "metadata": {},
   "source": [
    "![Alt text](image.png)\n",
    "![Alt text](image-1.png)"
   ]
  },
  {
   "cell_type": "markdown",
   "metadata": {},
   "source": [
    "# Q1\n",
    "\n",
    "Escape Characters: Escape characters in Python are special characters that are used to represent non-printable or special characters within a string. They are preceded by a backslash \\ in the string to indicate that the character following the backslash should be treated differently. For example, \\n represents a newline character, and \\\\ represents a literal backslash character."
   ]
  },
  {
   "cell_type": "markdown",
   "metadata": {},
   "source": [
    "# Q2\n",
    "\n",
    "Escape Characters 'n' and 't':\n",
    "- \\n stands for a newline character, which is used to start a new line within a string.\n",
    "- \\t stands for a tab character, which is used to create horizontal spacing or indentation within a string."
   ]
  },
  {
   "cell_type": "markdown",
   "metadata": {},
   "source": [
    "# Q3\n",
    "\n",
    "Including Backslash Characters: To include a literal backslash character in a string, you need to escape it by using two backslashes \\\\. For example, \"This is a double backslash: \\\\\\\\\"."
   ]
  },
  {
   "cell_type": "markdown",
   "metadata": {},
   "source": [
    "# Q4 \n",
    "\n",
    "Single Quote in \"Howl's Moving Castle\": The single quote character in the string \"Howl's Moving Castle\" is not a problem because the string is enclosed in double quotes \", which allows single quotes ' to appear within the string without needing to be escaped."
   ]
  },
  {
   "cell_type": "markdown",
   "metadata": {},
   "source": [
    "# Q5\n",
    "\n",
    "String of Newlines Without '\\n': If you don't want to use the escape character \\n, you can create a string of newlines by simply including multiple newline characters in the string. For example, \"Line 1\\nLine 2\\nLine 3\"."
   ]
  },
  {
   "cell_type": "markdown",
   "metadata": {},
   "source": [
    "# Q6\n",
    "\n",
    "Values of Expressions:  \n",
    "'Hello, world!'[1] returns 'e' because it accesses the character at index 1 in the string.  \n",
    "'Hello, world!'[0:5] returns 'Hello' because it slices the string from index 0 (inclusive) to 5 (exclusive).  \n",
    "'Hello, world!'[:5] returns 'Hello' because it slices the string from the beginning to index 5 (exclusive).  \n",
    "'Hello, world!'[3:] returns 'lo, world!' because it slices the string from index 3 to the end."
   ]
  },
  {
   "cell_type": "markdown",
   "metadata": {},
   "source": [
    "# Q7\n",
    "\n",
    "Values of Expressions:  \n",
    "'Hello'.upper() returns 'HELLO' because it converts the string to uppercase.  \n",
    "'Hello'.upper().isupper() returns True because it first converts the string to uppercase and then checks if all characters are uppercase.  \n",
    "'Hello'.upper().lower() returns 'hello' because it first converts the string to uppercase and then converts it back to lowercase."
   ]
  },
  {
   "cell_type": "markdown",
   "metadata": {},
   "source": [
    "# Q8\n",
    "\n",
    "Values of Expressions:\n",
    "'Remember, remember, the fifth of July.'.split() splits the string into a list of words, separating them at whitespace. Result: ['Remember,', 'remember,', 'the', 'fifth', 'of', 'July.'].\n",
    "'-'.join('There can only one.'.split()) splits the string at whitespace, then joins the resulting list using hyphens as separators. Result: 'There-can-only-one.'."
   ]
  },
  {
   "cell_type": "markdown",
   "metadata": {},
   "source": [
    "# Q9\n",
    "\n",
    "String Justification Methods: \n",
    "- Right-justifying: Use the str.rjust(width) method to right-justify a string within a field of a specified width.\n",
    "- Left-justifying: Use the str.ljust(width) method to left-justify a string within a field of a specified width.\n",
    "- Centering: Use the str.center(width) method to center a string within a field of a specified width."
   ]
  },
  {
   "cell_type": "markdown",
   "metadata": {},
   "source": [
    "# Q10\n",
    "\n",
    "Removing Whitespace: To remove leading and trailing whitespace characters (e.g., spaces, tabs, newlines) from a string, you can use the str.strip() method.\n",
    "To remove only leading whitespace, use str.lstrip(). To remove only trailing whitespace, use str.rstrip()."
   ]
  }
 ],
 "metadata": {
  "language_info": {
   "name": "python"
  },
  "orig_nbformat": 4
 },
 "nbformat": 4,
 "nbformat_minor": 2
}
