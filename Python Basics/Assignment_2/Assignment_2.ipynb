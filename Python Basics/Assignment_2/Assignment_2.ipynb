{
 "cells": [
  {
   "cell_type": "markdown",
   "metadata": {},
   "source": [
    "# Q1 \n",
    "\n",
    "The Boolean data type has two possible values: true and false. These values are used to represent binary logic in programming and are often associated with conditional statements and expressions. These values are typically written as:\n",
    "- True\n",
    "- False"
   ]
  },
  {
   "cell_type": "markdown",
   "metadata": {},
   "source": [
    "# Q2\n",
    "\n",
    "Boolean operators are used in logic and programming to perform operations on Boolean values (true or false). There are three primary Boolean operators:\n",
    "- and operator (&&)\n",
    "- or operator (||)\n",
    "- not operator (!)"
   ]
  },
  {
   "cell_type": "markdown",
   "metadata": {},
   "source": [
    "# Q3\n",
    "\n",
    "Here are the truth tables for each of the three primary Boolean operators: AND, OR, and NOT. These tables show every possible combination of Boolean values for the operator and the result of the evaluation:\n",
    "\n",
    "AND Operator (&& or AND):\n",
    "Operand 1\tOperand 2\tResult\n",
    "false\t    false\t    false\n",
    "false\t    true\t    false\n",
    "true\t    false\t    false\n",
    "true\t    true\t    true\n",
    "\n",
    "OR Operator (|| or OR):\n",
    "Operand 1\tOperand 2\tResult\n",
    "false\t    false\t    false\n",
    "false\t    true\t    true\n",
    "true\t    false\t    true\n",
    "true\t    true\t    true\n",
    "\n",
    "NOT Operator (! or NOT):\n",
    "Operand\tResult\n",
    "false\ttrue\n",
    "true\tfalse"
   ]
  },
  {
   "cell_type": "markdown",
   "metadata": {},
   "source": [
    "# Q4\n",
    "\n",
    "The values of the given expressions are as follows:\n",
    "(5 > 4) and (3 == 5)                evaluates to false.\n",
    "not (5 > 4)                         evaluates to false.\n",
    "(5 > 4) or (3 == 5)                 evaluates to true.\n",
    "not ((5 > 4) or (3 == 5))           evaluates to false.\n",
    "(True and True) and (True == False) evaluates to false.\n",
    "(not False) or (not True)           evaluates to true."
   ]
  },
  {
   "cell_type": "markdown",
   "metadata": {},
   "source": [
    "# Q5 \n",
    "\n",
    "There are six comparison operators in programming that allow you to compare values and produce Boolean results (true or false) based on the comparison. These operators are:\n",
    "- Equal to (==)\n",
    "- Not equal to (!=)\n",
    "- Greater than (>)\n",
    "- Less than (<)\n",
    "- Greater than or equal to (>=)\n",
    "- Less than or equal to (<=)"
   ]
  },
  {
   "cell_type": "markdown",
   "metadata": {},
   "source": [
    "# Q6\n",
    "\n",
    "The equal to operator (==) want to compare two values to check if they are equal. For example, you might use it to check if a user's input matches a predefined value.\n",
    "\n",
    "You would use the assignment operator (=) when you want to assign a value to a variable. For example, you might use it to initialize a variable with an initial value."
   ]
  },
  {
   "cell_type": "markdown",
   "metadata": {},
   "source": [
    "# Q7 \n",
    "\n",
    "There are three distinct blocks identified:\n",
    "- Block 1: Contains the initial assignment spam = 0 and the two print statements at the end of the code. These statements are not part of any conditional statements.\n",
    "- Block 2: Includes the code under the if spam == 10: statement, which is print('eggs'). This block is executed if the condition spam == 10 is true, but in this case, it is not.\n",
    "- Block 3: Includes the code under the if spam > 5: statement, which is print('bacon'). This block is executed if the condition spam > 5 is true, but in this case, it is also not true, so the else part (print('ham')) is executed instead."
   ]
  },
  {
   "cell_type": "code",
   "execution_count": 1,
   "metadata": {},
   "outputs": [
    {
     "name": "stdout",
     "output_type": "stream",
     "text": [
      "Greetings!\n"
     ]
    }
   ],
   "source": [
    "# Q8 \n",
    "\n",
    "spam = 3  \n",
    "if spam == 1:\n",
    "    print('Hello')\n",
    "elif spam == 2:\n",
    "    print('Howdy')\n",
    "else:\n",
    "    print('Greetings!')"
   ]
  },
  {
   "cell_type": "markdown",
   "metadata": {},
   "source": [
    "# Q9\n",
    "\n",
    "If your program is stuck in an endless loop, and you want to forcefully terminate it, you can typically do so by pressing a combination of keys Ctrl + C (Control + C): "
   ]
  },
  {
   "cell_type": "markdown",
   "metadata": {},
   "source": [
    "# Q10\n",
    "\n",
    "\"break\" is used to exit the entire loop prematurely, while \"continue\" is used to skip the current iteration and continue with the next iteration of the loop. "
   ]
  },
  {
   "cell_type": "markdown",
   "metadata": {},
   "source": [
    "# Q11\n",
    "\n",
    "In Python, the range() function is commonly used in for loops to generate a sequence of numbers. All three of the expressions you provided – range(10), range(0, 10), and range(0, 10, 1) – are equivalent and will produce the same result. They all create a range of numbers from 0 to 9 (inclusive), incrementing by 1 at each step. Here's the breakdown of each expression:"
   ]
  },
  {
   "cell_type": "code",
   "execution_count": 7,
   "metadata": {},
   "outputs": [
    {
     "name": "stdout",
     "output_type": "stream",
     "text": [
      "Using 'for' loop\n",
      "1\n",
      "2\n",
      "3\n",
      "4\n",
      "5\n",
      "6\n",
      "7\n",
      "8\n",
      "9\n",
      "10\n",
      "Using 'while' loop\n",
      "1\n",
      "2\n",
      "3\n",
      "4\n",
      "5\n",
      "6\n",
      "7\n",
      "8\n",
      "9\n",
      "10\n"
     ]
    }
   ],
   "source": [
    "# Q12\n",
    "\n",
    "print(\"Using 'for' loop\")\n",
    "for i in range(1, 11):\n",
    "    print(i)\n",
    "print(\"Using 'while' loop\")\n",
    "i = 1\n",
    "while(i != 11):\n",
    "    print(i)\n",
    "    i = i+1"
   ]
  },
  {
   "cell_type": "markdown",
   "metadata": {},
   "source": [
    "# Q13\n",
    "\n",
    "If you have a function named bacon() inside a module named spam, you can call it after importing the spam module using the following syntax:\n",
    "\n",
    "import spam\n",
    "spam.bacon()\n",
    "\n",
    "In this code, import spam imports the spam module.\n",
    "spam.bacon() calls the bacon() function from the spam module."
   ]
  }
 ],
 "metadata": {
  "kernelspec": {
   "display_name": "base",
   "language": "python",
   "name": "python3"
  },
  "language_info": {
   "codemirror_mode": {
    "name": "ipython",
    "version": 3
   },
   "file_extension": ".py",
   "mimetype": "text/x-python",
   "name": "python",
   "nbconvert_exporter": "python",
   "pygments_lexer": "ipython3",
   "version": "3.10.9"
  },
  "orig_nbformat": 4
 },
 "nbformat": 4,
 "nbformat_minor": 2
}
