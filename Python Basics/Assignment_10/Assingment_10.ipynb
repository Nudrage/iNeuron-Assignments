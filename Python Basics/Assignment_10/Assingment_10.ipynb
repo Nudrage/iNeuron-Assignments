{
 "cells": [
  {
   "cell_type": "markdown",
   "metadata": {},
   "source": [
    "# <center> iNeuron Python Basics Assignment-10 </center>"
   ]
  },
  {
   "cell_type": "markdown",
   "metadata": {},
   "source": [
    "![Alt text](image.png)"
   ]
  },
  {
   "cell_type": "markdown",
   "metadata": {},
   "source": [
    "# Q1\n",
    "\n",
    "shutil.copy() and shutil.copytree() are both functions in the shutil module used for file operations, but they serve different purposes:\n",
    "- shutil.copy(src, dst): This function is used to copy a single file from the source path (src) to the destination path (dst). It is typically used to make a duplicate copy of an individual file.\n",
    "- shutil.copytree(src, dst): This function is used to copy an entire directory tree, including all of its files and subdirectories, from the source path (src) to the destination path (dst). It creates a new directory with the same structure as the source directory."
   ]
  },
  {
   "cell_type": "markdown",
   "metadata": {},
   "source": [
    "# Q2 \n",
    "\n",
    "The shutil.move(src, dst) function is used to rename files and directories. It not only renames the file or directory but also allows you to move it to a different location if the destination path (dst) is different from the source path (src)."
   ]
  },
  {
   "cell_type": "markdown",
   "metadata": {},
   "source": [
    "# Q3\n",
    "\n",
    "The difference between the delete functions in the send2trash and shutil modules is how they handle file deletion:\n",
    "- send2trash (from the send2trash module) sends files or directories to the operating system's trash or recycle bin, allowing for potential recovery. It is a safer option when you want to delete files, as they can be restored from the trash if needed.\n",
    "- shutil (specifically, shutil.rmtree(path)) is used for permanent deletion of files and directories. When you use shutil.rmtree(), files and directories are deleted from the file system without the possibility of recovery from the trash or recycle bin."
   ]
  },
  {
   "cell_type": "markdown",
   "metadata": {},
   "source": [
    "# Q4\n",
    "\n",
    "The method in a ZipFile object that is equivalent to File objects' open() method is ZipFile(filename, mode). To create a new ZipFile object, you provide the filename of the ZIP archive you want to work with and specify the mode (e.g., 'r' for reading, 'w' for writing, 'a' for appending)."
   ]
  },
  {
   "cell_type": "markdown",
   "metadata": {},
   "source": [
    "# Q5"
   ]
  },
  {
   "cell_type": "code",
   "execution_count": null,
   "metadata": {},
   "outputs": [],
   "source": [
    "import os\n",
    "import shutil\n",
    "\n",
    "def copy_files_with_extension(source_folder, target_folder, file_extension):\n",
    "    for foldername, subfolders, filenames in os.walk(source_folder):\n",
    "        for filename in filenames:\n",
    "            if filename.endswith(file_extension):\n",
    "                source_file = os.path.join(foldername, filename)\n",
    "                shutil.copy(source_file, target_folder)\n",
    "\n",
    "source_folder = '/path/to/source_folder'  # Replace with the source folder path\n",
    "target_folder = '/path/to/target_folder'  # Replace with the target folder path\n",
    "file_extension = '.pdf'  # Replace with the desired file extension\n",
    "\n",
    "copy_files_with_extension(source_folder, target_folder, file_extension)"
   ]
  }
 ],
 "metadata": {
  "kernelspec": {
   "display_name": "base",
   "language": "python",
   "name": "python3"
  },
  "language_info": {
   "name": "python",
   "version": "3.10.9"
  },
  "orig_nbformat": 4
 },
 "nbformat": 4,
 "nbformat_minor": 2
}
