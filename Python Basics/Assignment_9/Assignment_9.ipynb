{
 "cells": [
  {
   "cell_type": "markdown",
   "metadata": {},
   "source": [
    "# <center> iNeuron Python Basics Assignment-9 </center>"
   ]
  },
  {
   "cell_type": "markdown",
   "metadata": {},
   "source": [
    "![Alt text](image.png)"
   ]
  },
  {
   "cell_type": "markdown",
   "metadata": {},
   "source": [
    "# Q1\n",
    "\n",
    "A relative path refers to a file or directory location that is specified in relation to the current working directory. It does not start from the root directory but provides a path relative to the directory where the script or program is running."
   ]
  },
  {
   "cell_type": "markdown",
   "metadata": {},
   "source": [
    "# Q2\n",
    "\n",
    "An absolute path starts with the root directory of the operating system. In most operating systems, an absolute path starts with a drive letter (e.g., \"C:\") on Windows or the root directory (e.g., \"/\") on Unix-based systems."
   ]
  },
  {
   "cell_type": "markdown",
   "metadata": {},
   "source": [
    "# Q3\n",
    "\n",
    "- os.getcwd(): This function returns the current working directory as a string. It tells you the directory in which your Python script or program is currently executing.\n",
    "- os.chdir(path): This function changes the current working directory to the directory specified by the path argument. It allows you to navigate to a different directory in the file system."
   ]
  },
  {
   "cell_type": "markdown",
   "metadata": {},
   "source": [
    "# Q4\n",
    "\n",
    "In file systems, the . (dot) represents the current directory, and .. (double-dot) represents the parent directory. These symbols are used in path manipulation to refer to specific directories relative to the current location."
   ]
  },
  {
   "cell_type": "markdown",
   "metadata": {},
   "source": [
    "# Q5\n",
    "\n",
    "In the path \"C:\\bacon\\eggs\\spam.txt\":  \n",
    "- \"C:\\bacon\\eggs\" is the directory (dir) name.\n",
    "- \"spam.txt\" is the base name or filename."
   ]
  },
  {
   "cell_type": "markdown",
   "metadata": {},
   "source": [
    "# Q6\n",
    "\n",
    "The three \"mode\" arguments that can be passed to the open() function in Python are:\n",
    "\n",
    "- 'r': Read mode (default). Opens the file for reading.\n",
    "- 'w': Write mode. Opens the file for writing and truncates (clears) the file if it already exists.\n",
    "- 'a': Append mode. Opens the file for writing but does not truncate it. New data is appended to the end of the file."
   ]
  },
  {
   "cell_type": "markdown",
   "metadata": {},
   "source": [
    "# Q7\n",
    "\n",
    "If an existing file is opened in write mode ('w') using the open() function, it will truncate (clear) the file's contents. If the file does not exist, a new empty file with the specified name will be created."
   ]
  },
  {
   "cell_type": "markdown",
   "metadata": {},
   "source": [
    "# Q8\n",
    "\n",
    "read() and readlines() are methods used for reading from a file:\n",
    "- read(): Reads the entire content of the file as a single string.\n",
    "- readlines(): Reads the lines of the file into a list, where each element of the list corresponds to a line in the file."
   ]
  },
  {
   "cell_type": "markdown",
   "metadata": {},
   "source": [
    "# Q9\n",
    "\n",
    "A shelf value in Python resembles a dictionary data structure. It is provided by the shelve module and acts like a persistent dictionary, allowing you to store and retrieve key-value pairs. Shelve values are typically used for simple database-like operations where you can store data across multiple program runs."
   ]
  }
 ],
 "metadata": {
  "language_info": {
   "name": "python"
  },
  "orig_nbformat": 4
 },
 "nbformat": 4,
 "nbformat_minor": 2
}
